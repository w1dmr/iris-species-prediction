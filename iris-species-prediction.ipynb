{
 "cells": [
  {
   "cell_type": "code",
   "execution_count": 1,
   "metadata": {
    "ExecuteTime": {
     "end_time": "2024-06-03T11:42:45.795287Z",
     "start_time": "2024-06-03T11:42:44.857946Z"
    }
   },
   "outputs": [],
   "source": [
    "import numpy as np\n",
    "\n",
    "from sklearn.datasets import load_iris\n",
    "from sklearn.linear_model import LogisticRegression\n",
    "from sklearn.model_selection import train_test_split\n",
    "from sklearn.metrics import confusion_matrix, ConfusionMatrixDisplay"
   ]
  },
  {
   "attachments": {},
   "cell_type": "markdown",
   "metadata": {},
   "source": [
    "# Реализация библиотечной логистической регрессии"
   ]
  },
  {
   "attachments": {},
   "cell_type": "markdown",
   "metadata": {},
   "source": [
    "Подгрузим данные из библиотеки `scikit-learn`. Будем работать с классическим датасетом, содержащим информацию об ирисах Фишера, который часто используется как учебный пример в машинном обучении."
   ]
  },
  {
   "cell_type": "code",
   "execution_count": 2,
   "metadata": {
    "ExecuteTime": {
     "end_time": "2024-06-03T11:42:46.137122Z",
     "start_time": "2024-06-03T11:42:45.796296Z"
    }
   },
   "outputs": [
    {
     "data": {
      "text/plain": "     sepal length (cm)  sepal width (cm)  petal length (cm)  petal width (cm)  \\\n146                6.3               2.5                5.0               1.9   \n115                6.4               3.2                5.3               2.3   \n82                 5.8               2.7                3.9               1.2   \n122                7.7               2.8                6.7               2.0   \n125                7.2               3.2                6.0               1.8   \n\n     target  \n146       2  \n115       2  \n82        1  \n122       2  \n125       2  ",
      "text/html": "<div>\n<style scoped>\n    .dataframe tbody tr th:only-of-type {\n        vertical-align: middle;\n    }\n\n    .dataframe tbody tr th {\n        vertical-align: top;\n    }\n\n    .dataframe thead th {\n        text-align: right;\n    }\n</style>\n<table border=\"1\" class=\"dataframe\">\n  <thead>\n    <tr style=\"text-align: right;\">\n      <th></th>\n      <th>sepal length (cm)</th>\n      <th>sepal width (cm)</th>\n      <th>petal length (cm)</th>\n      <th>petal width (cm)</th>\n      <th>target</th>\n    </tr>\n  </thead>\n  <tbody>\n    <tr>\n      <th>146</th>\n      <td>6.3</td>\n      <td>2.5</td>\n      <td>5.0</td>\n      <td>1.9</td>\n      <td>2</td>\n    </tr>\n    <tr>\n      <th>115</th>\n      <td>6.4</td>\n      <td>3.2</td>\n      <td>5.3</td>\n      <td>2.3</td>\n      <td>2</td>\n    </tr>\n    <tr>\n      <th>82</th>\n      <td>5.8</td>\n      <td>2.7</td>\n      <td>3.9</td>\n      <td>1.2</td>\n      <td>1</td>\n    </tr>\n    <tr>\n      <th>122</th>\n      <td>7.7</td>\n      <td>2.8</td>\n      <td>6.7</td>\n      <td>2.0</td>\n      <td>2</td>\n    </tr>\n    <tr>\n      <th>125</th>\n      <td>7.2</td>\n      <td>3.2</td>\n      <td>6.0</td>\n      <td>1.8</td>\n      <td>2</td>\n    </tr>\n  </tbody>\n</table>\n</div>"
     },
     "execution_count": 2,
     "metadata": {},
     "output_type": "execute_result"
    }
   ],
   "source": [
    "df = load_iris(as_frame=True).frame\n",
    "\n",
    "df.sample(5)"
   ]
  },
  {
   "attachments": {},
   "cell_type": "markdown",
   "metadata": {},
   "source": [
    "Посмотрим, сколько экземпляров каждого класса содержится в таргете."
   ]
  },
  {
   "cell_type": "code",
   "execution_count": 3,
   "metadata": {
    "ExecuteTime": {
     "end_time": "2024-06-03T11:42:46.143141Z",
     "start_time": "2024-06-03T11:42:46.137122Z"
    }
   },
   "outputs": [
    {
     "data": {
      "text/plain": "target\n0    50\n1    50\n2    50\nName: count, dtype: int64"
     },
     "execution_count": 3,
     "metadata": {},
     "output_type": "execute_result"
    }
   ],
   "source": [
    "df['target'].value_counts()"
   ]
  },
  {
   "attachments": {},
   "cell_type": "markdown",
   "metadata": {},
   "source": [
    "Сформируем новое поле `target_virginica`, которое будет равно 0, если цветок не является классом 2, иначе — 1. Старый таргет удалим."
   ]
  },
  {
   "cell_type": "code",
   "execution_count": 4,
   "metadata": {
    "ExecuteTime": {
     "end_time": "2024-06-03T11:42:46.154839Z",
     "start_time": "2024-06-03T11:42:46.143141Z"
    }
   },
   "outputs": [
    {
     "data": {
      "text/plain": "     sepal length (cm)  sepal width (cm)  petal length (cm)  petal width (cm)  \\\n125                7.2               3.2                6.0               1.8   \n122                7.7               2.8                6.7               2.0   \n123                6.3               2.7                4.9               1.8   \n30                 4.8               3.1                1.6               0.2   \n27                 5.2               3.5                1.5               0.2   \n\n     target_virginica  \n125                 1  \n122                 1  \n123                 1  \n30                  0  \n27                  0  ",
      "text/html": "<div>\n<style scoped>\n    .dataframe tbody tr th:only-of-type {\n        vertical-align: middle;\n    }\n\n    .dataframe tbody tr th {\n        vertical-align: top;\n    }\n\n    .dataframe thead th {\n        text-align: right;\n    }\n</style>\n<table border=\"1\" class=\"dataframe\">\n  <thead>\n    <tr style=\"text-align: right;\">\n      <th></th>\n      <th>sepal length (cm)</th>\n      <th>sepal width (cm)</th>\n      <th>petal length (cm)</th>\n      <th>petal width (cm)</th>\n      <th>target_virginica</th>\n    </tr>\n  </thead>\n  <tbody>\n    <tr>\n      <th>125</th>\n      <td>7.2</td>\n      <td>3.2</td>\n      <td>6.0</td>\n      <td>1.8</td>\n      <td>1</td>\n    </tr>\n    <tr>\n      <th>122</th>\n      <td>7.7</td>\n      <td>2.8</td>\n      <td>6.7</td>\n      <td>2.0</td>\n      <td>1</td>\n    </tr>\n    <tr>\n      <th>123</th>\n      <td>6.3</td>\n      <td>2.7</td>\n      <td>4.9</td>\n      <td>1.8</td>\n      <td>1</td>\n    </tr>\n    <tr>\n      <th>30</th>\n      <td>4.8</td>\n      <td>3.1</td>\n      <td>1.6</td>\n      <td>0.2</td>\n      <td>0</td>\n    </tr>\n    <tr>\n      <th>27</th>\n      <td>5.2</td>\n      <td>3.5</td>\n      <td>1.5</td>\n      <td>0.2</td>\n      <td>0</td>\n    </tr>\n  </tbody>\n</table>\n</div>"
     },
     "execution_count": 4,
     "metadata": {},
     "output_type": "execute_result"
    }
   ],
   "source": [
    "df['target_virginica'] = df['target'].apply(lambda x: 1 if x == 2 else 0)\n",
    "\n",
    "df.drop('target', axis=1, inplace=True)\n",
    "\n",
    "df.sample(5)"
   ]
  },
  {
   "attachments": {},
   "cell_type": "markdown",
   "metadata": {},
   "source": [
    "Рассчитаем снова количество объектов каждого класса, чтобы убедиться, что все преобразования были сделаны корректно."
   ]
  },
  {
   "cell_type": "code",
   "execution_count": 5,
   "metadata": {
    "ExecuteTime": {
     "end_time": "2024-06-03T11:42:46.162332Z",
     "start_time": "2024-06-03T11:42:46.157083Z"
    }
   },
   "outputs": [
    {
     "data": {
      "text/plain": "target_virginica\n0    100\n1     50\nName: count, dtype: int64"
     },
     "execution_count": 5,
     "metadata": {},
     "output_type": "execute_result"
    }
   ],
   "source": [
    "df['target_virginica'].value_counts()"
   ]
  },
  {
   "attachments": {},
   "cell_type": "markdown",
   "metadata": {},
   "source": [
    "Разделим датасет на обучающую и валидационную части."
   ]
  },
  {
   "cell_type": "code",
   "execution_count": 6,
   "metadata": {
    "ExecuteTime": {
     "end_time": "2024-06-03T11:42:46.168583Z",
     "start_time": "2024-06-03T11:42:46.163341Z"
    }
   },
   "outputs": [],
   "source": [
    "features_train, features_val, target_train, target_val = train_test_split(df.drop('target_virginica', axis=1),\n",
    "                                                                          df['target_virginica'],\n",
    "                                                                          random_state=5,\n",
    "                                                                          test_size=0.3)"
   ]
  },
  {
   "attachments": {},
   "cell_type": "markdown",
   "metadata": {},
   "source": [
    "Обучим модель и сделаем прогнозы на валидационной выборке."
   ]
  },
  {
   "cell_type": "code",
   "execution_count": 7,
   "metadata": {
    "ExecuteTime": {
     "end_time": "2024-06-03T11:42:46.180308Z",
     "start_time": "2024-06-03T11:42:46.169594Z"
    }
   },
   "outputs": [],
   "source": [
    "model = LogisticRegression()\n",
    "\n",
    "model.fit(features_train, target_train)\n",
    "\n",
    "predictions_val = model.predict(features_val)"
   ]
  },
  {
   "attachments": {},
   "cell_type": "markdown",
   "metadata": {},
   "source": [
    "Оценим качество модели, выведя матрицу ошибок для прогнозов."
   ]
  },
  {
   "cell_type": "code",
   "execution_count": 8,
   "metadata": {
    "ExecuteTime": {
     "end_time": "2024-06-03T11:42:46.837798Z",
     "start_time": "2024-06-03T11:42:46.181320Z"
    }
   },
   "outputs": [
    {
     "data": {
      "text/plain": "<Figure size 640x480 with 2 Axes>",
      "image/png": "[encoded data removed]"
     },
     "metadata": {},
     "output_type": "display_data"
    }
   ],
   "source": [
    "ConfusionMatrixDisplay(confusion_matrix(target_val, predictions_val)).plot();"
   ]
  },
  {
   "attachments": {},
   "cell_type": "markdown",
   "metadata": {},
   "source": [
    "Модель демонстрирует высокую производительность, только одно предсказание является ложноположительным (`FP`), остальные — верны."
   ]
  },
  {
   "attachments": {},
   "cell_type": "markdown",
   "metadata": {},
   "source": [
    "# Реализация собственной логистической регрессии"
   ]
  },
  {
   "attachments": {},
   "cell_type": "markdown",
   "metadata": {},
   "source": [
    "Сконструируем класс `MyLogisticRegression`, решающий задачу логистической регрессии методом градиентного спуска."
   ]
  },
  {
   "cell_type": "code",
   "execution_count": 9,
   "metadata": {
    "ExecuteTime": {
     "end_time": "2024-06-03T11:42:46.849003Z",
     "start_time": "2024-06-03T11:42:46.839814Z"
    }
   },
   "outputs": [],
   "source": [
    "class MyLogisticRegression:\n",
    "    \n",
    "    # Инициализатор класса, который позволит задать значения для полей объекта\n",
    "    # step_size (величина шага) и iterations (количество итераций) при его создании.\n",
    "    def __init__(self, step_size, iterations) -> None:\n",
    "        self.step_size = step_size\n",
    "        self.iterations = iterations\n",
    "        \n",
    "    # Функция сигмоида для нормализации прогнозов\n",
    "    @staticmethod\n",
    "    def sigmoid(z):\n",
    "        return 1 / (1 + np.exp(-z))\n",
    "    \n",
    "    # Обучение модели на тренировочных данных  \n",
    "    def fit(self, features_train, target_train):\n",
    "        X = np.concatenate((np.ones((features_train.shape[0], 1)), features_train), axis=1) # Матрица признаков\n",
    "        y = target_train # Вектор целевых значений\n",
    "        w = np.zeros(X.shape[1]) # Вектор весов\n",
    "        \n",
    "        # Нахождение весов методом градиентного спуска\n",
    "        for i in range(self.iterations):\n",
    "            gradient = X.T @ (self.sigmoid(X @ w) - y) / X.shape[0] # Находим градиент функции потерь\n",
    "            w -= self.step_size * gradient # Меняем веса в соответствии с градиентом\n",
    "            \n",
    "        self.w = w[1:] # Вектор весов\n",
    "        self.w0 = w[0] # Свободный параметр\n",
    "        \n",
    "    # Предсказание вероятностей принадлежности к классу 1\n",
    "    def predict(self, features_val):\n",
    "        predictions_val = self.sigmoid(features_val.dot(self.w) + self.w0) #  Рассчитываем вероятности\n",
    "        \n",
    "        predictions_val[predictions_val > 0.5] = 1 # Возвращаем лейбл 1, если вероятность принадлежности к классу больше 0.5\n",
    "        predictions_val[predictions_val <= 0.5] = 0 # Возвращаем лейбл 0, если вероятность принадлежности к классу меньше либо равна 0.5\n",
    "        \n",
    "        return predictions_val"
   ]
  },
  {
   "attachments": {},
   "cell_type": "markdown",
   "metadata": {},
   "source": [
    "Обучим собственную модель и сделаем прогнозы на валидационной выборке."
   ]
  },
  {
   "cell_type": "code",
   "execution_count": 10,
   "metadata": {
    "ExecuteTime": {
     "end_time": "2024-06-03T11:42:46.870929Z",
     "start_time": "2024-06-03T11:42:46.850013Z"
    }
   },
   "outputs": [],
   "source": [
    "def make_predictions(step_size, iterations):\n",
    "    my_model = MyLogisticRegression(step_size, iterations)\n",
    "    my_model.fit(features_train, target_train)\n",
    "    predictions_val = my_model.predict(features_val)\n",
    "    \n",
    "    return predictions_val\n",
    "    \n",
    "\n",
    "predictions_val = make_predictions(0.5, 100)"
   ]
  },
  {
   "attachments": {},
   "cell_type": "markdown",
   "metadata": {},
   "source": [
    "Оценим качество нашей модели, выведя матрицу ошибок для прогнозов."
   ]
  },
  {
   "cell_type": "code",
   "execution_count": 11,
   "metadata": {
    "ExecuteTime": {
     "end_time": "2024-06-03T11:42:47.037750Z",
     "start_time": "2024-06-03T11:42:46.871945Z"
    }
   },
   "outputs": [
    {
     "data": {
      "text/plain": "<Figure size 640x480 with 2 Axes>",
      "image/png": "[encoded data removed]"
     },
     "metadata": {},
     "output_type": "display_data"
    }
   ],
   "source": [
    "ConfusionMatrixDisplay(confusion_matrix(target_val, predictions_val)).plot();"
   ]
  },
  {
   "attachments": {},
   "cell_type": "markdown",
   "metadata": {},
   "source": [
    "При определении класса наша модель допускает много ошибок. Это происходит из-за неправильно подобранных параметров для метода градиентного спуска. Попробуем поварьировать параметры."
   ]
  },
  {
   "cell_type": "code",
   "execution_count": 12,
   "metadata": {
    "ExecuteTime": {
     "end_time": "2024-06-03T11:42:47.292525Z",
     "start_time": "2024-06-03T11:42:47.038761Z"
    }
   },
   "outputs": [
    {
     "data": {
      "text/plain": "<Figure size 640x480 with 2 Axes>",
      "image/png": "[encoded data removed]"
     },
     "metadata": {},
     "output_type": "display_data"
    }
   ],
   "source": [
    "predictions_val = make_predictions(0.5, 1000)\n",
    "\n",
    "ConfusionMatrixDisplay(confusion_matrix(target_val, predictions_val)).plot();"
   ]
  },
  {
   "attachments": {},
   "cell_type": "markdown",
   "metadata": {},
   "source": [
    "Повышение количества итераций значительно улучшило качество модели, однако оно все еще не достигает уровня качества библиотечной модели."
   ]
  },
  {
   "cell_type": "code",
   "execution_count": 13,
   "metadata": {
    "ExecuteTime": {
     "end_time": "2024-06-03T11:42:47.540208Z",
     "start_time": "2024-06-03T11:42:47.293535Z"
    }
   },
   "outputs": [
    {
     "data": {
      "text/plain": "<Figure size 640x480 with 2 Axes>",
      "image/png": "[encoded data removed]"
     },
     "metadata": {},
     "output_type": "display_data"
    }
   ],
   "source": [
    "predictions_val = make_predictions(2, 1000)\n",
    "\n",
    "ConfusionMatrixDisplay(confusion_matrix(target_val, predictions_val)).plot();"
   ]
  },
  {
   "attachments": {},
   "cell_type": "markdown",
   "metadata": {},
   "source": [
    "Увеличение значения шага градиентного спуска позволило достичь аналогичного качества модели, как у библиотечной."
   ]
  },
  {
   "cell_type": "markdown",
   "source": [
    "# Вывод"
   ],
   "metadata": {
    "collapsed": false
   }
  },
  {
   "attachments": {},
   "cell_type": "markdown",
   "metadata": {},
   "source": [
    "В процессе работы было выполнено несколько шагов: загрузка данных из библиотеки `scikit-learn`, разбиение датасета на тренировочную и валидационную выборки, создание своей модели логистической регрессии для решения задачи классификации, подбор параметров для этой модели и сравнительный анализ ее результатов с библиотечной моделью."
   ]
  },
  {
   "cell_type": "code",
   "outputs": [],
   "source": [],
   "metadata": {
    "collapsed": false,
    "ExecuteTime": {
     "end_time": "2024-06-03T11:42:47.544722Z",
     "start_time": "2024-06-03T11:42:47.542217Z"
    }
   },
   "execution_count": 13
  }
 ],
 "metadata": {
  "kernelspec": {
   "display_name": "Python 3",
   "language": "python",
   "name": "python3"
  },
  "language_info": {
   "codemirror_mode": {
    "name": "ipython",
    "version": 3
   },
   "file_extension": ".py",
   "mimetype": "text/x-python",
   "name": "python",
   "nbconvert_exporter": "python",
   "pygments_lexer": "ipython3",
   "version": "3.11.4"
  },
  "orig_nbformat": 4
 },
 "nbformat": 4,
 "nbformat_minor": 2
}
